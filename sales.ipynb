{
  "nbformat": 4,
  "nbformat_minor": 0,
  "metadata": {
    "colab": {
      "name": "sales.ipynb",
      "provenance": [],
      "authorship_tag": "ABX9TyMqZGkf6bj8nhJzghGwoQkM",
      "include_colab_link": true
    },
    "kernelspec": {
      "name": "python3",
      "display_name": "Python 3"
    }
  },
  "cells": [
    {
      "cell_type": "markdown",
      "metadata": {
        "id": "view-in-github",
        "colab_type": "text"
      },
      "source": [
        "<a href=\"https://colab.research.google.com/github/pavansai26/anusha-task1/blob/master/sales.ipynb\" target=\"_parent\"><img src=\"https://colab.research.google.com/assets/colab-badge.svg\" alt=\"Open In Colab\"/></a>"
      ]
    },
    {
      "cell_type": "code",
      "metadata": {
        "id": "msJDC4eni9dF",
        "colab_type": "code",
        "colab": {}
      },
      "source": [
        "import numpy as np \n",
        "import pandas as pd \n",
        "import matplotlib.pyplot as plt\n",
        "%matplotlib inline\n",
        "\n",
        "import seaborn as sns\n",
        "sns.set()"
      ],
      "execution_count": null,
      "outputs": []
    },
    {
      "cell_type": "code",
      "metadata": {
        "id": "LxrPZNQgjUMg",
        "colab_type": "code",
        "colab": {}
      },
      "source": [
        "from sklearn.model_selection import TimeSeriesSplit\n",
        "from sklearn.preprocessing import StandardScaler\n",
        "from sklearn.cluster import KMeans\n",
        "\n",
        "from scipy.stats import boxcox\n",
        "from os import listdir"
      ],
      "execution_count": null,
      "outputs": []
    },
    {
      "cell_type": "code",
      "metadata": {
        "id": "1P9Ju8Oejc8w",
        "colab_type": "code",
        "colab": {}
      },
      "source": [
        "pip install shap"
      ],
      "execution_count": null,
      "outputs": []
    },
    {
      "cell_type": "code",
      "metadata": {
        "id": "iFQgiG8SjhP7",
        "colab_type": "code",
        "colab": {}
      },
      "source": [
        "import warnings\n",
        "warnings.filterwarnings(\"ignore\", category=DeprecationWarning)\n",
        "warnings.filterwarnings(\"ignore\", category=UserWarning)\n",
        "warnings.filterwarnings(\"ignore\", category=RuntimeWarning)\n",
        "warnings.filterwarnings(\"ignore\", category=FutureWarning)\n",
        "\n",
        "import shap\n",
        "shap.initjs()\n"
      ],
      "execution_count": null,
      "outputs": []
    },
    {
      "cell_type": "code",
      "metadata": {
        "id": "bIydmEy6jqEL",
        "colab_type": "code",
        "colab": {}
      },
      "source": [
        "pd.set_option('display.max_rows', 10000)\n",
        "pd.set_option('display.max_columns', 1000)"
      ],
      "execution_count": null,
      "outputs": []
    },
    {
      "cell_type": "code",
      "metadata": {
        "id": "9D5iJYwnjwng",
        "colab_type": "code",
        "colab": {}
      },
      "source": [
        "from google.colab import drive\n",
        "drive.mount('/gdrive')"
      ],
      "execution_count": null,
      "outputs": []
    },
    {
      "cell_type": "code",
      "metadata": {
        "id": "vei-B-IBkNEZ",
        "colab_type": "code",
        "colab": {}
      },
      "source": [
        "data=pd.read_csv('/gdrive/My Drive/Colab Notebooks/Data_csv.csv',encoding = 'ISO-8859-1')"
      ],
      "execution_count": null,
      "outputs": []
    },
    {
      "cell_type": "code",
      "metadata": {
        "id": "XNdgbJmvj0vX",
        "colab_type": "code",
        "colab": {}
      },
      "source": [
        "missing_percentage = data.isnull().sum() / data.shape[0] * 100\n",
        "missing_percentage"
      ],
      "execution_count": null,
      "outputs": []
    },
    {
      "cell_type": "code",
      "metadata": {
        "id": "pd2HevrKkFZj",
        "colab_type": "code",
        "colab": {}
      },
      "source": [
        "data[data['product description'].isnull()].head()"
      ],
      "execution_count": null,
      "outputs": []
    },
    {
      "cell_type": "code",
      "metadata": {
        "id": "wUR_-zREkdNk",
        "colab_type": "code",
        "colab": {}
      },
      "source": [
        "data[\"InvoiceDate\"] = pd.to_datetime(data['transaction timestamp'], cache=True)\n",
        "\n",
        "data.InvoiceDate.max() - data.InvoiceDate.min()"
      ],
      "execution_count": null,
      "outputs": []
    },
    {
      "cell_type": "code",
      "metadata": {
        "id": "pcaZcQy3lRwH",
        "colab_type": "code",
        "colab": {}
      },
      "source": [
        "print(\"Datafile starts with timepoint {}\".format(data.InvoiceDate.min()))\n",
        "print(\"Datafile ends with timepoint {}\".format(data.InvoiceDate.max()))"
      ],
      "execution_count": null,
      "outputs": []
    },
    {
      "cell_type": "code",
      "metadata": {
        "id": "d03GxjrnljCt",
        "colab_type": "code",
        "colab": {}
      },
      "source": [
        "data[\"IsCancelled\"]=np.where(data['ï»¿transaction id'].apply(lambda l: l[0]==\"C\"), True, False)\n",
        "data.IsCancelled.value_counts() / data.shape[0] * 100"
      ],
      "execution_count": null,
      "outputs": []
    },
    {
      "cell_type": "code",
      "metadata": {
        "id": "laPQV0KWmA5p",
        "colab_type": "code",
        "colab": {}
      },
      "source": [
        "data.loc[data.IsCancelled==True].describe()"
      ],
      "execution_count": null,
      "outputs": []
    },
    {
      "cell_type": "code",
      "metadata": {
        "id": "sKwOdF2NmIXo",
        "colab_type": "code",
        "colab": {}
      },
      "source": [
        "data = data.loc[data.IsCancelled==False].copy()\n",
        "data = data.drop(\"IsCancelled\", axis=1)"
      ],
      "execution_count": null,
      "outputs": []
    },
    {
      "cell_type": "code",
      "metadata": {
        "id": "Rgf52M0-mfFR",
        "colab_type": "code",
        "colab": {}
      },
      "source": [
        "data['product id'].nunique()"
      ],
      "execution_count": null,
      "outputs": []
    },
    {
      "cell_type": "code",
      "metadata": {
        "id": "-MBgXgefmr_D",
        "colab_type": "code",
        "colab": {}
      },
      "source": [
        "stockcode_counts = data['product id'].value_counts().sort_values(ascending=False)\n",
        "fig, ax = plt.subplots(2,1,figsize=(20,15))\n",
        "sns.barplot(stockcode_counts.iloc[0:20].index,\n",
        "            stockcode_counts.iloc[0:20].values,\n",
        "            ax = ax[0], palette=\"Oranges_r\")\n",
        "ax[0].set_ylabel(\"Counts\")\n",
        "ax[0].set_xlabel(\"Stockcode\")\n",
        "ax[0].set_title(\"Which stockcodes are most common?\");\n",
        "sns.distplot(np.round(stockcode_counts/data.shape[0]*100,2),\n",
        "             kde=False,\n",
        "             bins=20,\n",
        "             ax=ax[1], color=\"Orange\")\n",
        "ax[1].set_title(\"How seldom are stockcodes?\")\n",
        "ax[1].set_xlabel(\"% of data with this stockcode\")\n",
        "ax[1].set_ylabel(\"Frequency\");\n"
      ],
      "execution_count": null,
      "outputs": []
    },
    {
      "cell_type": "code",
      "metadata": {
        "id": "BLunbZ4EnELf",
        "colab_type": "code",
        "colab": {}
      },
      "source": [
        "description_counts = data['product description'].value_counts().sort_values(ascending=False).iloc[0:30]\n",
        "plt.figure(figsize=(20,5))\n",
        "sns.barplot(description_counts.index, description_counts.values, palette=\"Purples_r\")\n",
        "plt.ylabel(\"Counts\")\n",
        "plt.title(\"Which product descriptions are most common?\");\n",
        "plt.xticks(rotation=90);"
      ],
      "execution_count": null,
      "outputs": []
    },
    {
      "cell_type": "code",
      "metadata": {
        "id": "TnXbRUX6oCr_",
        "colab_type": "code",
        "colab": {}
      },
      "source": [
        "customer_counts = data['customer id'].value_counts().sort_values(ascending=False).iloc[0:20] \n",
        "plt.figure(figsize=(20,5))\n",
        "sns.barplot(customer_counts.index, customer_counts.values, order=customer_counts.index)\n",
        "plt.ylabel(\"Counts\")\n",
        "plt.xlabel(\"CustomerID\")\n",
        "plt.title(\"Which customers are most common?\");\n",
        "plt.xticks(rotation=90);"
      ],
      "execution_count": null,
      "outputs": []
    },
    {
      "cell_type": "code",
      "metadata": {
        "id": "Xd6xq2jYonGj",
        "colab_type": "code",
        "colab": {}
      },
      "source": [
        "country_counts = data['transaction country'].value_counts().sort_values(ascending=False).iloc[0:20]\n",
        "plt.figure(figsize=(20,5))\n",
        "sns.barplot(country_counts.index, country_counts.values, palette=\"Greens_r\")\n",
        "plt.ylabel(\"Counts\")\n",
        "plt.title(\"Which countries made the most transactions?\");\n",
        "plt.xticks(rotation=90);\n",
        "plt.yscale(\"log\")"
      ],
      "execution_count": null,
      "outputs": []
    },
    {
      "cell_type": "markdown",
      "metadata": {
        "id": "2Zurf0kmpD16",
        "colab_type": "text"
      },
      "source": [
        "How many percentage of entries are inside UK?"
      ]
    },
    {
      "cell_type": "code",
      "metadata": {
        "id": "zl7Pg3jbo4A9",
        "colab_type": "code",
        "colab": {}
      },
      "source": [
        "data.loc[data['transaction country']==\"United Kingdom\"].shape[0] / data.shape[0] * 100"
      ],
      "execution_count": null,
      "outputs": []
    },
    {
      "cell_type": "markdown",
      "metadata": {
        "id": "ikCINFhHpxMw",
        "colab_type": "text"
      },
      "source": [
        " indicate inside or outside of the UK:"
      ]
    },
    {
      "cell_type": "code",
      "metadata": {
        "id": "gH7jinJUpT2u",
        "colab_type": "code",
        "colab": {}
      },
      "source": [
        "data[\"UK\"] = np.where(data['transaction country'] == \"United Kingdom\", 1, 0)"
      ],
      "execution_count": null,
      "outputs": []
    },
    {
      "cell_type": "code",
      "metadata": {
        "id": "h1MxRl_0p1rY",
        "colab_type": "code",
        "colab": {}
      },
      "source": [
        "data.loc[data['unit price'] == 0].sort_values(by=\"quantity sold\", ascending=False).head()"
      ],
      "execution_count": null,
      "outputs": []
    },
    {
      "cell_type": "code",
      "metadata": {
        "id": "Sx4arKJBqL50",
        "colab_type": "code",
        "colab": {}
      },
      "source": [
        "data[\"Revenue\"] = data['quantity sold'] * data['unit price']\n",
        "\n"
      ],
      "execution_count": null,
      "outputs": []
    },
    {
      "cell_type": "code",
      "metadata": {
        "id": "tqB8eXZArfLl",
        "colab_type": "code",
        "colab": {}
      },
      "source": [
        "data=data.iloc[:,:9]"
      ],
      "execution_count": null,
      "outputs": []
    },
    {
      "cell_type": "code",
      "metadata": {
        "id": "NbIkChYmstnj",
        "colab_type": "code",
        "colab": {}
      },
      "source": [
        "data"
      ],
      "execution_count": null,
      "outputs": []
    },
    {
      "cell_type": "code",
      "metadata": {
        "id": "4-TEZW_nvk-N",
        "colab_type": "code",
        "colab": {}
      },
      "source": [
        "data['time'] = pd.to_datetime(data['transaction timestamp'])"
      ],
      "execution_count": null,
      "outputs": []
    },
    {
      "cell_type": "code",
      "metadata": {
        "id": "-_FC028Uvxh3",
        "colab_type": "code",
        "colab": {}
      },
      "source": [
        "data"
      ],
      "execution_count": null,
      "outputs": []
    },
    {
      "cell_type": "code",
      "metadata": {
        "id": "hqDOysdMsvdd",
        "colab_type": "code",
        "colab": {}
      },
      "source": [
        "data[\"Revenue\"] = data['quantity sold'] * data['unit price']\n",
        "\n",
        "data[\"Year\"] = data['time'].dt.year\n",
        "data[\"Quarter\"] = data['time'].dt.quarter\n",
        "data[\"Month\"] = data['time'].dt.month\n",
        "data[\"Week\"] = data['time'].dt.week\n",
        "data[\"Weekday\"] = data['time'].dt.weekday\n",
        "data[\"Day\"] = data['time'].dt.day\n",
        "data[\"Dayofyear\"] = data['time'].dt.dayofyear\n",
        "data[\"Date\"] = pd.to_datetime(data[['Year', 'Month', 'Day']])"
      ],
      "execution_count": null,
      "outputs": []
    },
    {
      "cell_type": "code",
      "metadata": {
        "id": "lsWZG7L8yjYh",
        "colab_type": "code",
        "colab": {}
      },
      "source": [
        "data['quantity'] = data['quantity sold']\n",
        "print(data['quantity'])"
      ],
      "execution_count": null,
      "outputs": []
    },
    {
      "cell_type": "code",
      "metadata": {
        "id": "mmP9O1p4tjy2",
        "colab_type": "code",
        "colab": {}
      },
      "source": [
        "grouped_features = [\"Date\", \"Year\", \"Quarter\",\"Month\", \"Week\", \"Weekday\", \"Dayofyear\", \"Day\",\n",
        "                    \"product id\"]"
      ],
      "execution_count": null,
      "outputs": []
    },
    {
      "cell_type": "code",
      "metadata": {
        "id": "8XmveYr3wfpt",
        "colab_type": "code",
        "colab": {}
      },
      "source": [
        "daily_data = pd.DataFrame(data.groupby(grouped_features).quantity.sum(),\n",
        "                          columns=[\"quantity\"])\n",
        "daily_data[\"Revenue\"] = data.groupby(grouped_features).Revenue.sum()\n",
        "daily_data = daily_data.reset_index()\n",
        "daily_data"
      ],
      "execution_count": null,
      "outputs": []
    },
    {
      "cell_type": "code",
      "metadata": {
        "id": "V9dCRxeZxM9E",
        "colab_type": "code",
        "colab": {}
      },
      "source": [
        "samples = daily_data.shape[0]"
      ],
      "execution_count": null,
      "outputs": []
    },
    {
      "cell_type": "code",
      "metadata": {
        "id": "x2D0rvOy0Eji",
        "colab_type": "code",
        "colab": {}
      },
      "source": [
        "low_quantity = daily_data.quantity.quantile(0.01)\n",
        "high_quantity = daily_data.quantity.quantile(0.99)\n",
        "print((low_quantity, high_quantity))"
      ],
      "execution_count": null,
      "outputs": []
    },
    {
      "cell_type": "code",
      "metadata": {
        "id": "rskcYfQa0Xw3",
        "colab_type": "code",
        "colab": {}
      },
      "source": [
        "low_revenue = daily_data.Revenue.quantile(0.01)\n",
        "high_revenue = daily_data.Revenue.quantile(0.99)\n",
        "print((low_revenue, high_revenue))"
      ],
      "execution_count": null,
      "outputs": []
    },
    {
      "cell_type": "code",
      "metadata": {
        "id": "IpcG-9n8zRS9",
        "colab_type": "code",
        "colab": {}
      },
      "source": [
        "daily_data = daily_data.loc[\n",
        "    (daily_data.quantity >= low_quantity) & (daily_data.quantity <= high_quantity)]\n",
        "daily_data = daily_data.loc[\n",
        "    (daily_data.Revenue >= low_revenue) & (daily_data.Revenue <= high_revenue)]"
      ],
      "execution_count": null,
      "outputs": []
    },
    {
      "cell_type": "markdown",
      "metadata": {
        "id": "ZqgSNXiy0jye",
        "colab_type": "text"
      },
      "source": [
        "How much entries have we lost?"
      ]
    },
    {
      "cell_type": "code",
      "metadata": {
        "id": "mkKnPHgvzZGE",
        "colab_type": "code",
        "colab": {}
      },
      "source": [
        "samples - daily_data.shape[0]"
      ],
      "execution_count": null,
      "outputs": []
    },
    {
      "cell_type": "code",
      "metadata": {
        "id": "z59q2Q1Q0olQ",
        "colab_type": "code",
        "colab": {}
      },
      "source": [
        "fig, ax = plt.subplots(1,2,figsize=(20,5))\n",
        "sns.distplot(daily_data.quantity.values, kde=True, ax=ax[0], color=\"Orange\", bins=30);\n",
        "sns.distplot(np.log(daily_data.quantity.values), kde=True, ax=ax[1], color=\"Orange\", bins=30);\n",
        "ax[0].set_xlabel(\"Number of daily product sales\");\n",
        "ax[0].set_ylabel(\"Frequency\");\n",
        "ax[0].set_title(\"How many products are sold per day?\");"
      ],
      "execution_count": null,
      "outputs": []
    },
    {
      "cell_type": "code",
      "metadata": {
        "id": "ofl9SJe6XcpN",
        "colab_type": "code",
        "colab": {
          "base_uri": "https://localhost:8080/",
          "height": 326
        },
        "outputId": "047bad4f-9b44-44b7-a334-b2634a565fbf"
      },
      "source": [
        "daily_data.head()"
      ],
      "execution_count": 78,
      "outputs": [
        {
          "output_type": "execute_result",
          "data": {
            "text/html": [
              "<div>\n",
              "<style scoped>\n",
              "    .dataframe tbody tr th:only-of-type {\n",
              "        vertical-align: middle;\n",
              "    }\n",
              "\n",
              "    .dataframe tbody tr th {\n",
              "        vertical-align: top;\n",
              "    }\n",
              "\n",
              "    .dataframe thead th {\n",
              "        text-align: right;\n",
              "    }\n",
              "</style>\n",
              "<table border=\"1\" class=\"dataframe\">\n",
              "  <thead>\n",
              "    <tr style=\"text-align: right;\">\n",
              "      <th></th>\n",
              "      <th>product id</th>\n",
              "      <th>Year</th>\n",
              "      <th>Month</th>\n",
              "      <th>Week</th>\n",
              "      <th>Weekday</th>\n",
              "      <th>Date</th>\n",
              "      <th>Quarter</th>\n",
              "      <th>Dayofyear</th>\n",
              "      <th>Day</th>\n",
              "      <th>quantity</th>\n",
              "      <th>Revenue</th>\n",
              "      <th>ProductType</th>\n",
              "      <th>KnownStockCodeUnitPriceMedian</th>\n",
              "      <th>KnownStockCodeUnitPriceIQR</th>\n",
              "      <th>KnownStockCodePrice_WW_median</th>\n",
              "      <th>KnownStockCodePrice_WW_mean</th>\n",
              "      <th>KnownStockCodePrice_WW_std</th>\n",
              "    </tr>\n",
              "  </thead>\n",
              "  <tbody>\n",
              "    <tr>\n",
              "      <th>0</th>\n",
              "      <td>10002</td>\n",
              "      <td>2010</td>\n",
              "      <td>12</td>\n",
              "      <td>48</td>\n",
              "      <td>2</td>\n",
              "      <td>2010-12-01</td>\n",
              "      <td>4</td>\n",
              "      <td>335</td>\n",
              "      <td>1</td>\n",
              "      <td>4.094345</td>\n",
              "      <td>51.00</td>\n",
              "      <td>1</td>\n",
              "      <td>0.85</td>\n",
              "      <td>0.78</td>\n",
              "      <td>0.85</td>\n",
              "      <td>0.85</td>\n",
              "      <td>0.0</td>\n",
              "    </tr>\n",
              "    <tr>\n",
              "      <th>1</th>\n",
              "      <td>10125</td>\n",
              "      <td>2010</td>\n",
              "      <td>12</td>\n",
              "      <td>48</td>\n",
              "      <td>2</td>\n",
              "      <td>2010-12-01</td>\n",
              "      <td>4</td>\n",
              "      <td>335</td>\n",
              "      <td>1</td>\n",
              "      <td>0.693147</td>\n",
              "      <td>1.70</td>\n",
              "      <td>22</td>\n",
              "      <td>0.85</td>\n",
              "      <td>0.04</td>\n",
              "      <td>0.85</td>\n",
              "      <td>0.85</td>\n",
              "      <td>NaN</td>\n",
              "    </tr>\n",
              "    <tr>\n",
              "      <th>2</th>\n",
              "      <td>10133</td>\n",
              "      <td>2010</td>\n",
              "      <td>12</td>\n",
              "      <td>48</td>\n",
              "      <td>2</td>\n",
              "      <td>2010-12-01</td>\n",
              "      <td>4</td>\n",
              "      <td>335</td>\n",
              "      <td>1</td>\n",
              "      <td>1.609438</td>\n",
              "      <td>4.25</td>\n",
              "      <td>16</td>\n",
              "      <td>0.79</td>\n",
              "      <td>0.41</td>\n",
              "      <td>0.85</td>\n",
              "      <td>0.85</td>\n",
              "      <td>NaN</td>\n",
              "    </tr>\n",
              "    <tr>\n",
              "      <th>3</th>\n",
              "      <td>10135</td>\n",
              "      <td>2010</td>\n",
              "      <td>12</td>\n",
              "      <td>48</td>\n",
              "      <td>2</td>\n",
              "      <td>2010-12-01</td>\n",
              "      <td>4</td>\n",
              "      <td>335</td>\n",
              "      <td>1</td>\n",
              "      <td>0.000000</td>\n",
              "      <td>2.51</td>\n",
              "      <td>9</td>\n",
              "      <td>1.25</td>\n",
              "      <td>0.03</td>\n",
              "      <td>2.51</td>\n",
              "      <td>2.51</td>\n",
              "      <td>NaN</td>\n",
              "    </tr>\n",
              "    <tr>\n",
              "      <th>4</th>\n",
              "      <td>11001</td>\n",
              "      <td>2010</td>\n",
              "      <td>12</td>\n",
              "      <td>48</td>\n",
              "      <td>2</td>\n",
              "      <td>2010-12-01</td>\n",
              "      <td>4</td>\n",
              "      <td>335</td>\n",
              "      <td>1</td>\n",
              "      <td>1.098612</td>\n",
              "      <td>10.08</td>\n",
              "      <td>22</td>\n",
              "      <td>1.69</td>\n",
              "      <td>0.00</td>\n",
              "      <td>3.36</td>\n",
              "      <td>3.36</td>\n",
              "      <td>NaN</td>\n",
              "    </tr>\n",
              "  </tbody>\n",
              "</table>\n",
              "</div>"
            ],
            "text/plain": [
              "  product id  Year  Month  Week  Weekday       Date  Quarter  Dayofyear  Day  \\\n",
              "0      10002  2010     12    48        2 2010-12-01        4        335    1   \n",
              "1      10125  2010     12    48        2 2010-12-01        4        335    1   \n",
              "2      10133  2010     12    48        2 2010-12-01        4        335    1   \n",
              "3      10135  2010     12    48        2 2010-12-01        4        335    1   \n",
              "4      11001  2010     12    48        2 2010-12-01        4        335    1   \n",
              "\n",
              "   quantity  Revenue ProductType  KnownStockCodeUnitPriceMedian  \\\n",
              "0  4.094345    51.00           1                           0.85   \n",
              "1  0.693147     1.70          22                           0.85   \n",
              "2  1.609438     4.25          16                           0.79   \n",
              "3  0.000000     2.51           9                           1.25   \n",
              "4  1.098612    10.08          22                           1.69   \n",
              "\n",
              "   KnownStockCodeUnitPriceIQR  KnownStockCodePrice_WW_median  \\\n",
              "0                        0.78                           0.85   \n",
              "1                        0.04                           0.85   \n",
              "2                        0.41                           0.85   \n",
              "3                        0.03                           2.51   \n",
              "4                        0.00                           3.36   \n",
              "\n",
              "   KnownStockCodePrice_WW_mean  KnownStockCodePrice_WW_std  \n",
              "0                         0.85                         0.0  \n",
              "1                         0.85                         NaN  \n",
              "2                         0.85                         NaN  \n",
              "3                         2.51                         NaN  \n",
              "4                         3.36                         NaN  "
            ]
          },
          "metadata": {
            "tags": []
          },
          "execution_count": 78
        }
      ]
    },
    {
      "cell_type": "code",
      "metadata": {
        "id": "GebZg9F4cZ5A",
        "colab_type": "code",
        "colab": {
          "base_uri": "https://localhost:8080/",
          "height": 52
        },
        "outputId": "df5e7a8a-818b-4ebd-e31c-4c7f83b0e071"
      },
      "source": [
        "week = daily_data.Week.max() - 2\n",
        "print(\"Validation after week {}\".format(week))\n",
        "print(\"Validation starts at timepoint {}\".format(\n",
        "    daily_data[daily_data.Week==week].Date.min()\n",
        "))"
      ],
      "execution_count": 57,
      "outputs": [
        {
          "output_type": "stream",
          "text": [
            "Validation after week 49\n",
            "Validation starts at timepoint 2010-12-06 00:00:00\n"
          ],
          "name": "stdout"
        }
      ]
    },
    {
      "cell_type": "code",
      "metadata": {
        "id": "nExtDhkBcns2",
        "colab_type": "code",
        "colab": {
          "base_uri": "https://localhost:8080/",
          "height": 202
        },
        "outputId": "a44358a1-2e76-43b0-d75f-748e9db90ce5"
      },
      "source": [
        "products = pd.DataFrame(index=data.loc[data.Week < week]['product id'].unique(), columns = [\"MedianPrice\"])\n",
        "\n",
        "products[\"MedianPrice\"] = data.loc[data.Week < week].groupby(\"product id\")['unit price'].median()\n",
        "products[\"MedianQuantities\"] = data.loc[data.Week < week].groupby(\"product id\").quantity.median()\n",
        "products[\"Customers\"] = data.loc[data.Week < week].groupby(\"product id\")['customer id'].nunique()\n",
        "org_cols = np.copy(products.columns.values)\n",
        "products.head()"
      ],
      "execution_count": 65,
      "outputs": [
        {
          "output_type": "execute_result",
          "data": {
            "text/html": [
              "<div>\n",
              "<style scoped>\n",
              "    .dataframe tbody tr th:only-of-type {\n",
              "        vertical-align: middle;\n",
              "    }\n",
              "\n",
              "    .dataframe tbody tr th {\n",
              "        vertical-align: top;\n",
              "    }\n",
              "\n",
              "    .dataframe thead th {\n",
              "        text-align: right;\n",
              "    }\n",
              "</style>\n",
              "<table border=\"1\" class=\"dataframe\">\n",
              "  <thead>\n",
              "    <tr style=\"text-align: right;\">\n",
              "      <th></th>\n",
              "      <th>MedianPrice</th>\n",
              "      <th>MedianQuantities</th>\n",
              "      <th>Customers</th>\n",
              "    </tr>\n",
              "  </thead>\n",
              "  <tbody>\n",
              "    <tr>\n",
              "      <th>85123A</th>\n",
              "      <td>2.95</td>\n",
              "      <td>6.0</td>\n",
              "      <td>825</td>\n",
              "    </tr>\n",
              "    <tr>\n",
              "      <th>71053</th>\n",
              "      <td>3.75</td>\n",
              "      <td>4.0</td>\n",
              "      <td>138</td>\n",
              "    </tr>\n",
              "    <tr>\n",
              "      <th>84406B</th>\n",
              "      <td>4.15</td>\n",
              "      <td>4.0</td>\n",
              "      <td>126</td>\n",
              "    </tr>\n",
              "    <tr>\n",
              "      <th>84029G</th>\n",
              "      <td>4.25</td>\n",
              "      <td>3.0</td>\n",
              "      <td>171</td>\n",
              "    </tr>\n",
              "    <tr>\n",
              "      <th>84029E</th>\n",
              "      <td>4.25</td>\n",
              "      <td>4.0</td>\n",
              "      <td>176</td>\n",
              "    </tr>\n",
              "  </tbody>\n",
              "</table>\n",
              "</div>"
            ],
            "text/plain": [
              "        MedianPrice  MedianQuantities  Customers\n",
              "85123A         2.95               6.0        825\n",
              "71053          3.75               4.0        138\n",
              "84406B         4.15               4.0        126\n",
              "84029G         4.25               3.0        171\n",
              "84029E         4.25               4.0        176"
            ]
          },
          "metadata": {
            "tags": []
          },
          "execution_count": 65
        }
      ]
    },
    {
      "cell_type": "code",
      "metadata": {
        "id": "2h5gCmqxeRgs",
        "colab_type": "code",
        "colab": {}
      },
      "source": [
        "X = products.values\n",
        "scaler = StandardScaler()\n",
        "X = scaler.fit_transform(X)"
      ],
      "execution_count": 66,
      "outputs": []
    },
    {
      "cell_type": "code",
      "metadata": {
        "id": "Hw97UV3vexvk",
        "colab_type": "code",
        "colab": {
          "base_uri": "https://localhost:8080/",
          "height": 306
        },
        "outputId": "85402035-b4b4-4433-fb25-ce50cf3cc7be"
      },
      "source": [
        "km = KMeans(n_clusters=30)\n",
        "products[\"cluster\"] = km.fit_predict(X)\n",
        "\n",
        "daily_data[\"ProductType\"] = daily_data['product id'].map(products.cluster)\n",
        "daily_data.ProductType = daily_data.ProductType.astype(\"object\")\n",
        "daily_data.head()"
      ],
      "execution_count": 68,
      "outputs": [
        {
          "output_type": "execute_result",
          "data": {
            "text/html": [
              "<div>\n",
              "<style scoped>\n",
              "    .dataframe tbody tr th:only-of-type {\n",
              "        vertical-align: middle;\n",
              "    }\n",
              "\n",
              "    .dataframe tbody tr th {\n",
              "        vertical-align: top;\n",
              "    }\n",
              "\n",
              "    .dataframe thead th {\n",
              "        text-align: right;\n",
              "    }\n",
              "</style>\n",
              "<table border=\"1\" class=\"dataframe\">\n",
              "  <thead>\n",
              "    <tr style=\"text-align: right;\">\n",
              "      <th></th>\n",
              "      <th>Date</th>\n",
              "      <th>Year</th>\n",
              "      <th>Quarter</th>\n",
              "      <th>Month</th>\n",
              "      <th>Week</th>\n",
              "      <th>Weekday</th>\n",
              "      <th>Dayofyear</th>\n",
              "      <th>Day</th>\n",
              "      <th>product id</th>\n",
              "      <th>quantity</th>\n",
              "      <th>Revenue</th>\n",
              "      <th>ProductType</th>\n",
              "    </tr>\n",
              "  </thead>\n",
              "  <tbody>\n",
              "    <tr>\n",
              "      <th>0</th>\n",
              "      <td>2010-12-01</td>\n",
              "      <td>2010</td>\n",
              "      <td>4</td>\n",
              "      <td>12</td>\n",
              "      <td>48</td>\n",
              "      <td>2</td>\n",
              "      <td>335</td>\n",
              "      <td>1</td>\n",
              "      <td>10002</td>\n",
              "      <td>4.094345</td>\n",
              "      <td>51.00</td>\n",
              "      <td>1</td>\n",
              "    </tr>\n",
              "    <tr>\n",
              "      <th>1</th>\n",
              "      <td>2010-12-01</td>\n",
              "      <td>2010</td>\n",
              "      <td>4</td>\n",
              "      <td>12</td>\n",
              "      <td>48</td>\n",
              "      <td>2</td>\n",
              "      <td>335</td>\n",
              "      <td>1</td>\n",
              "      <td>10125</td>\n",
              "      <td>0.693147</td>\n",
              "      <td>1.70</td>\n",
              "      <td>22</td>\n",
              "    </tr>\n",
              "    <tr>\n",
              "      <th>2</th>\n",
              "      <td>2010-12-01</td>\n",
              "      <td>2010</td>\n",
              "      <td>4</td>\n",
              "      <td>12</td>\n",
              "      <td>48</td>\n",
              "      <td>2</td>\n",
              "      <td>335</td>\n",
              "      <td>1</td>\n",
              "      <td>10133</td>\n",
              "      <td>1.609438</td>\n",
              "      <td>4.25</td>\n",
              "      <td>16</td>\n",
              "    </tr>\n",
              "    <tr>\n",
              "      <th>3</th>\n",
              "      <td>2010-12-01</td>\n",
              "      <td>2010</td>\n",
              "      <td>4</td>\n",
              "      <td>12</td>\n",
              "      <td>48</td>\n",
              "      <td>2</td>\n",
              "      <td>335</td>\n",
              "      <td>1</td>\n",
              "      <td>10135</td>\n",
              "      <td>0.000000</td>\n",
              "      <td>2.51</td>\n",
              "      <td>9</td>\n",
              "    </tr>\n",
              "    <tr>\n",
              "      <th>4</th>\n",
              "      <td>2010-12-01</td>\n",
              "      <td>2010</td>\n",
              "      <td>4</td>\n",
              "      <td>12</td>\n",
              "      <td>48</td>\n",
              "      <td>2</td>\n",
              "      <td>335</td>\n",
              "      <td>1</td>\n",
              "      <td>11001</td>\n",
              "      <td>1.098612</td>\n",
              "      <td>10.08</td>\n",
              "      <td>22</td>\n",
              "    </tr>\n",
              "  </tbody>\n",
              "</table>\n",
              "</div>"
            ],
            "text/plain": [
              "        Date  Year  Quarter  Month  Week  Weekday  Dayofyear  Day product id  \\\n",
              "0 2010-12-01  2010        4     12    48        2        335    1      10002   \n",
              "1 2010-12-01  2010        4     12    48        2        335    1      10125   \n",
              "2 2010-12-01  2010        4     12    48        2        335    1      10133   \n",
              "3 2010-12-01  2010        4     12    48        2        335    1      10135   \n",
              "4 2010-12-01  2010        4     12    48        2        335    1      11001   \n",
              "\n",
              "   quantity  Revenue ProductType  \n",
              "0  4.094345    51.00           1  \n",
              "1  0.693147     1.70          22  \n",
              "2  1.609438     4.25          16  \n",
              "3  0.000000     2.51           9  \n",
              "4  1.098612    10.08          22  "
            ]
          },
          "metadata": {
            "tags": []
          },
          "execution_count": 68
        }
      ]
    },
    {
      "cell_type": "code",
      "metadata": {
        "id": "NB_cwgpUe2Jm",
        "colab_type": "code",
        "colab": {}
      },
      "source": [
        "daily_data[\"KnownStockCodeUnitPriceMedian\"] = daily_data['product id'].map(\n",
        "    data.groupby(\"product id\")['unit price'].median())\n",
        "\n",
        "known_price_iqr = data.groupby(\"product id\")['unit price'].quantile(0.75) \n",
        "known_price_iqr -= data.groupby(\"product id\")['unit price'].quantile(0.25) \n",
        "daily_data[\"KnownStockCodeUnitPriceIQR\"] = daily_data['product id'].map(known_price_iqr)"
      ],
      "execution_count": 71,
      "outputs": []
    },
    {
      "cell_type": "code",
      "metadata": {
        "id": "oL85cnhDf4Vk",
        "colab_type": "code",
        "colab": {}
      },
      "source": [
        "to_group = [\"product id\", \"Year\", \"Month\", \"Week\", \"Weekday\"]\n",
        "\n",
        "daily_data = daily_data.set_index(to_group)\n",
        "daily_data[\"KnownStockCodePrice_WW_median\"] = daily_data.index.map(\n",
        "    data.groupby(to_group)['unit price'].median())\n",
        "daily_data[\"KnownStockCodePrice_WW_mean\"] = daily_data.index.map(\n",
        "    data.groupby(to_group)['unit price'].mean().apply(lambda l: np.round(l, 2)))\n",
        "daily_data[\"KnownStockCodePrice_WW_std\"] = daily_data.index.map(\n",
        "    data.groupby(to_group)['unit price'].std().apply(lambda l: np.round(l, 2)))\n",
        "\n",
        "daily_data = daily_data.reset_index()"
      ],
      "execution_count": 73,
      "outputs": []
    },
    {
      "cell_type": "code",
      "metadata": {
        "id": "nDXGLRhPgYOn",
        "colab_type": "code",
        "colab": {
          "base_uri": "https://localhost:8080/",
          "height": 326
        },
        "outputId": "0fb44148-db32-4ce6-926f-67f15af206e6"
      },
      "source": [
        "daily_data.head()"
      ],
      "execution_count": 74,
      "outputs": [
        {
          "output_type": "execute_result",
          "data": {
            "text/html": [
              "<div>\n",
              "<style scoped>\n",
              "    .dataframe tbody tr th:only-of-type {\n",
              "        vertical-align: middle;\n",
              "    }\n",
              "\n",
              "    .dataframe tbody tr th {\n",
              "        vertical-align: top;\n",
              "    }\n",
              "\n",
              "    .dataframe thead th {\n",
              "        text-align: right;\n",
              "    }\n",
              "</style>\n",
              "<table border=\"1\" class=\"dataframe\">\n",
              "  <thead>\n",
              "    <tr style=\"text-align: right;\">\n",
              "      <th></th>\n",
              "      <th>product id</th>\n",
              "      <th>Year</th>\n",
              "      <th>Month</th>\n",
              "      <th>Week</th>\n",
              "      <th>Weekday</th>\n",
              "      <th>Date</th>\n",
              "      <th>Quarter</th>\n",
              "      <th>Dayofyear</th>\n",
              "      <th>Day</th>\n",
              "      <th>quantity</th>\n",
              "      <th>Revenue</th>\n",
              "      <th>ProductType</th>\n",
              "      <th>KnownStockCodeUnitPriceMedian</th>\n",
              "      <th>KnownStockCodeUnitPriceIQR</th>\n",
              "      <th>KnownStockCodePrice_WW_median</th>\n",
              "      <th>KnownStockCodePrice_WW_mean</th>\n",
              "      <th>KnownStockCodePrice_WW_std</th>\n",
              "    </tr>\n",
              "  </thead>\n",
              "  <tbody>\n",
              "    <tr>\n",
              "      <th>0</th>\n",
              "      <td>10002</td>\n",
              "      <td>2010</td>\n",
              "      <td>12</td>\n",
              "      <td>48</td>\n",
              "      <td>2</td>\n",
              "      <td>2010-12-01</td>\n",
              "      <td>4</td>\n",
              "      <td>335</td>\n",
              "      <td>1</td>\n",
              "      <td>4.094345</td>\n",
              "      <td>51.00</td>\n",
              "      <td>1</td>\n",
              "      <td>0.85</td>\n",
              "      <td>0.78</td>\n",
              "      <td>0.85</td>\n",
              "      <td>0.85</td>\n",
              "      <td>0.0</td>\n",
              "    </tr>\n",
              "    <tr>\n",
              "      <th>1</th>\n",
              "      <td>10125</td>\n",
              "      <td>2010</td>\n",
              "      <td>12</td>\n",
              "      <td>48</td>\n",
              "      <td>2</td>\n",
              "      <td>2010-12-01</td>\n",
              "      <td>4</td>\n",
              "      <td>335</td>\n",
              "      <td>1</td>\n",
              "      <td>0.693147</td>\n",
              "      <td>1.70</td>\n",
              "      <td>22</td>\n",
              "      <td>0.85</td>\n",
              "      <td>0.04</td>\n",
              "      <td>0.85</td>\n",
              "      <td>0.85</td>\n",
              "      <td>NaN</td>\n",
              "    </tr>\n",
              "    <tr>\n",
              "      <th>2</th>\n",
              "      <td>10133</td>\n",
              "      <td>2010</td>\n",
              "      <td>12</td>\n",
              "      <td>48</td>\n",
              "      <td>2</td>\n",
              "      <td>2010-12-01</td>\n",
              "      <td>4</td>\n",
              "      <td>335</td>\n",
              "      <td>1</td>\n",
              "      <td>1.609438</td>\n",
              "      <td>4.25</td>\n",
              "      <td>16</td>\n",
              "      <td>0.79</td>\n",
              "      <td>0.41</td>\n",
              "      <td>0.85</td>\n",
              "      <td>0.85</td>\n",
              "      <td>NaN</td>\n",
              "    </tr>\n",
              "    <tr>\n",
              "      <th>3</th>\n",
              "      <td>10135</td>\n",
              "      <td>2010</td>\n",
              "      <td>12</td>\n",
              "      <td>48</td>\n",
              "      <td>2</td>\n",
              "      <td>2010-12-01</td>\n",
              "      <td>4</td>\n",
              "      <td>335</td>\n",
              "      <td>1</td>\n",
              "      <td>0.000000</td>\n",
              "      <td>2.51</td>\n",
              "      <td>9</td>\n",
              "      <td>1.25</td>\n",
              "      <td>0.03</td>\n",
              "      <td>2.51</td>\n",
              "      <td>2.51</td>\n",
              "      <td>NaN</td>\n",
              "    </tr>\n",
              "    <tr>\n",
              "      <th>4</th>\n",
              "      <td>11001</td>\n",
              "      <td>2010</td>\n",
              "      <td>12</td>\n",
              "      <td>48</td>\n",
              "      <td>2</td>\n",
              "      <td>2010-12-01</td>\n",
              "      <td>4</td>\n",
              "      <td>335</td>\n",
              "      <td>1</td>\n",
              "      <td>1.098612</td>\n",
              "      <td>10.08</td>\n",
              "      <td>22</td>\n",
              "      <td>1.69</td>\n",
              "      <td>0.00</td>\n",
              "      <td>3.36</td>\n",
              "      <td>3.36</td>\n",
              "      <td>NaN</td>\n",
              "    </tr>\n",
              "  </tbody>\n",
              "</table>\n",
              "</div>"
            ],
            "text/plain": [
              "  product id  Year  Month  Week  Weekday       Date  Quarter  Dayofyear  Day  \\\n",
              "0      10002  2010     12    48        2 2010-12-01        4        335    1   \n",
              "1      10125  2010     12    48        2 2010-12-01        4        335    1   \n",
              "2      10133  2010     12    48        2 2010-12-01        4        335    1   \n",
              "3      10135  2010     12    48        2 2010-12-01        4        335    1   \n",
              "4      11001  2010     12    48        2 2010-12-01        4        335    1   \n",
              "\n",
              "   quantity  Revenue ProductType  KnownStockCodeUnitPriceMedian  \\\n",
              "0  4.094345    51.00           1                           0.85   \n",
              "1  0.693147     1.70          22                           0.85   \n",
              "2  1.609438     4.25          16                           0.79   \n",
              "3  0.000000     2.51           9                           1.25   \n",
              "4  1.098612    10.08          22                           1.69   \n",
              "\n",
              "   KnownStockCodeUnitPriceIQR  KnownStockCodePrice_WW_median  \\\n",
              "0                        0.78                           0.85   \n",
              "1                        0.04                           0.85   \n",
              "2                        0.41                           0.85   \n",
              "3                        0.03                           2.51   \n",
              "4                        0.00                           3.36   \n",
              "\n",
              "   KnownStockCodePrice_WW_mean  KnownStockCodePrice_WW_std  \n",
              "0                         0.85                         0.0  \n",
              "1                         0.85                         NaN  \n",
              "2                         0.85                         NaN  \n",
              "3                         2.51                         NaN  \n",
              "4                         3.36                         NaN  "
            ]
          },
          "metadata": {
            "tags": []
          },
          "execution_count": 74
        }
      ]
    },
    {
      "cell_type": "code",
      "metadata": {
        "id": "ifn5M8a3gmko",
        "colab_type": "code",
        "colab": {
          "base_uri": "https://localhost:8080/",
          "height": 259
        },
        "outputId": "35ec72a1-bcb9-4989-81ad-44677fb50ad0"
      },
      "source": [
        "plt.figure(figsize=(20,5))\n",
        "plt.plot(daily_data.groupby(\"Date\").quantity.sum(), marker='+', c=\"darkorange\")\n",
        "plt.plot(daily_data.groupby(\"Date\").quantity.sum().rolling(window=30, center=True).mean(),\n",
        "        c=\"red\")\n",
        "plt.xticks(rotation=90);\n",
        "plt.title(\"How many quantities are sold per day over the given time?\");"
      ],
      "execution_count": 76,
      "outputs": [
        {
          "output_type": "display_data",
          "data": {
            "image/png": "[encoded data removed]",
            "text/plain": [
              "<Figure size 1440x360 with 1 Axes>"
            ]
          },
          "metadata": {
            "tags": []
          }
        }
      ]
    },
    {
      "cell_type": "code",
      "metadata": {
        "id": "TjeqzohXg02r",
        "colab_type": "code",
        "colab": {
          "base_uri": "https://localhost:8080/",
          "height": 261
        },
        "outputId": "a943d66c-265c-4fb3-ab11-c416c19eefc9"
      },
      "source": [
        "fig, ax = plt.subplots(1,2,figsize=(20,5))\n",
        "\n",
        "weekdays = [\"Monday\", \"Tuesday\", \"Wednesday\", \"Thursday\", \"Friday\", \"Saturday\", \"Sunday\"]\n",
        "yearmonth = [\"Dec-2010\", \"Jan-2011\", \"Feb-2011\", \"Mar-2011\", \"Apr-2011\", \"May-2011\",\n",
        "             \"Jun-2011\", \"Jul-1011\", \"Aug-2011\", \"Sep-2011\", \"Oct-2011\", \"Nov-2011\", \n",
        "             \"Dec-2011\"]\n",
        "\n",
        "daily_data.groupby(\"Weekday\").quantity.sum().plot(\n",
        "    ax=ax[0], marker='o', label=\"Quantity\", c=\"darkorange\");\n",
        "ax[0].legend();\n",
        "ax[0].set_xticks(np.arange(0,7))\n",
        "ax[0].set_xticklabels(weekdays);\n",
        "ax[0].set_xlabel(\"\")\n",
        "ax[0].set_title(\"Total sales per weekday\");\n",
        "\n",
        "ax[1].plot(daily_data.groupby([\"Year\", \"Month\"]).quantity.sum().values,\n",
        "    marker='o', label=\"Quantities\", c=\"darkorange\");\n",
        "ax[1].set_xticklabels(yearmonth, rotation=90)\n",
        "ax[1].set_xticks(np.arange(0, len(yearmonth)))\n",
        "ax[1].legend();\n",
        "ax[1].set_title(\"Total sales per month\");"
      ],
      "execution_count": 77,
      "outputs": [
        {
          "output_type": "display_data",
          "data": {
            "image/png": "[encoded data removed]",
            "text/plain": [
              "<Figure size 1440x360 with 2 Axes>"
            ]
          },
          "metadata": {
            "tags": []
          }
        }
      ]
    },
    {
      "cell_type": "code",
      "metadata": {
        "id": "Guni4iJuhKpM",
        "colab_type": "code",
        "colab": {}
      },
      "source": [
        ""
      ],
      "execution_count": null,
      "outputs": []
    }
  ]
}